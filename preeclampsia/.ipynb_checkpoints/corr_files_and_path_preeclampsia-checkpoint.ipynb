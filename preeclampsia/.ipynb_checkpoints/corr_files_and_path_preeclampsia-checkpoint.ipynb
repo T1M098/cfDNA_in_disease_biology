{
 "cells": [
  {
   "cell_type": "code",
   "execution_count": 1,
   "id": "db47be8d",
   "metadata": {},
   "outputs": [],
   "source": [
    "import csv\n",
    "import os\n",
    "import re"
   ]
  },
  {
   "cell_type": "code",
   "execution_count": 2,
   "id": "863f7b4c",
   "metadata": {},
   "outputs": [],
   "source": [
    "# output file name and path\n",
    "corr_files = '/preeclampsia/main_centers/body/outputs/corr_files_preeclampsia.tsv'"
   ]
  },
  {
   "cell_type": "code",
   "execution_count": 4,
   "id": "f508b900",
   "metadata": {},
   "outputs": [
    {
     "name": "stdout",
     "output_type": "stream",
     "text": [
      "['samp55', 'samp36', 'samp40', 'samp44', 'samp21', 'samp33', 'samp45', 'samp5', 'samp4', 'samp7', 'samp37', 'samp12', 'samp38', 'samp25', 'samp14', 'samp34', 'samp52', 'samp32', 'samp20', 'samp41', 'samp31', 'samp10', 'samp11', 'samp39', 'samp28', 'samp49', 'samp51', 'samp13', 'samp57', 'samp35', 'samp23', 'samp50', 'samp22', 'samp6', 'samp3', 'samp15', 'samp54', 'samp56', 'samp42', 'samp27', 'samp1']\n"
     ]
    }
   ],
   "source": [
    "directory = '/preeclampsia/main_centers/body/corr_tissues'\n",
    "data=[]\n",
    "\n",
    "files = os.listdir(directory)\n",
    "samp_numbers = []\n",
    "for file in files:\n",
    "    match = re.search(r'samp\\d+', file)  # Regex to find patterns like EE followed by numbers\n",
    "    if match:\n",
    "        samp_numbers.append(match.group())\n",
    "# print(samp_numbers)"
   ]
  },
  {
   "cell_type": "code",
   "execution_count": 4,
   "id": "6a157642",
   "metadata": {},
   "outputs": [
    {
     "name": "stdout",
     "output_type": "stream",
     "text": [
      "[('samp34', '/mnt/DATA3/timo/preeclampsia/main/body/outputs/corr_tissues/samp34_correlation.csv'), ('samp52', '/mnt/DATA3/timo/preeclampsia/main/body/outputs/corr_tissues/samp52_correlation.csv'), ('samp7', '/mnt/DATA3/timo/preeclampsia/main/body/outputs/corr_tissues/samp7_correlation.csv'), ('samp32', '/mnt/DATA3/timo/preeclampsia/main/body/outputs/corr_tissues/samp32_correlation.csv'), ('samp6', '/mnt/DATA3/timo/preeclampsia/main/body/outputs/corr_tissues/samp6_correlation.csv'), ('samp56', '/mnt/DATA3/timo/preeclampsia/main/body/outputs/corr_tissues/samp56_correlation.csv'), ('samp14', '/mnt/DATA3/timo/preeclampsia/main/body/outputs/corr_tissues/samp14_correlation.csv'), ('samp5', '/mnt/DATA3/timo/preeclampsia/main/body/outputs/corr_tissues/samp5_correlation.csv'), ('samp54', '/mnt/DATA3/timo/preeclampsia/main/body/outputs/corr_tissues/samp54_correlation.csv'), ('samp1', '/mnt/DATA3/timo/preeclampsia/main/body/outputs/corr_tissues/samp1_correlation.csv'), ('samp27', '/mnt/DATA3/timo/preeclampsia/main/body/outputs/corr_tissues/samp27_correlation.csv'), ('samp22', '/mnt/DATA3/timo/preeclampsia/main/body/outputs/corr_tissues/samp22_correlation.csv'), ('samp38', '/mnt/DATA3/timo/preeclampsia/main/body/outputs/corr_tissues/samp38_correlation.csv'), ('samp11', '/mnt/DATA3/timo/preeclampsia/main/body/outputs/corr_tissues/samp11_correlation.csv'), ('samp50', '/mnt/DATA3/timo/preeclampsia/main/body/outputs/corr_tissues/samp50_correlation.csv'), ('samp45', '/mnt/DATA3/timo/preeclampsia/main/body/outputs/corr_tissues/samp45_correlation.csv'), ('samp25', '/mnt/DATA3/timo/preeclampsia/main/body/outputs/corr_tissues/samp25_correlation.csv'), ('samp55', '/mnt/DATA3/timo/preeclampsia/main/body/outputs/corr_tissues/samp55_correlation.csv'), ('samp44', '/mnt/DATA3/timo/preeclampsia/main/body/outputs/corr_tissues/samp44_correlation.csv'), ('samp31', '/mnt/DATA3/timo/preeclampsia/main/body/outputs/corr_tissues/samp31_correlation.csv'), ('samp51', '/mnt/DATA3/timo/preeclampsia/main/body/outputs/corr_tissues/samp51_correlation.csv'), ('samp3', '/mnt/DATA3/timo/preeclampsia/main/body/outputs/corr_tissues/samp3_correlation.csv'), ('samp33', '/mnt/DATA3/timo/preeclampsia/main/body/outputs/corr_tissues/samp33_correlation.csv'), ('samp15', '/mnt/DATA3/timo/preeclampsia/main/body/outputs/corr_tissues/samp15_correlation.csv'), ('samp40', '/mnt/DATA3/timo/preeclampsia/main/body/outputs/corr_tissues/samp40_correlation.csv'), ('samp35', '/mnt/DATA3/timo/preeclampsia/main/body/outputs/corr_tissues/samp35_correlation.csv'), ('samp23', '/mnt/DATA3/timo/preeclampsia/main/body/outputs/corr_tissues/samp23_correlation.csv'), ('samp36', '/mnt/DATA3/timo/preeclampsia/main/body/outputs/corr_tissues/samp36_correlation.csv'), ('samp28', '/mnt/DATA3/timo/preeclampsia/main/body/outputs/corr_tissues/samp28_correlation.csv'), ('samp21', '/mnt/DATA3/timo/preeclampsia/main/body/outputs/corr_tissues/samp21_correlation.csv'), ('samp12', '/mnt/DATA3/timo/preeclampsia/main/body/outputs/corr_tissues/samp12_correlation.csv'), ('samp41', '/mnt/DATA3/timo/preeclampsia/main/body/outputs/corr_tissues/samp41_correlation.csv'), ('samp37', '/mnt/DATA3/timo/preeclampsia/main/body/outputs/corr_tissues/samp37_correlation.csv'), ('samp42', '/mnt/DATA3/timo/preeclampsia/main/body/outputs/corr_tissues/samp42_correlation.csv'), ('samp57', '/mnt/DATA3/timo/preeclampsia/main/body/outputs/corr_tissues/samp57_correlation.csv'), ('samp4', '/mnt/DATA3/timo/preeclampsia/main/body/outputs/corr_tissues/samp4_correlation.csv'), ('samp10', '/mnt/DATA3/timo/preeclampsia/main/body/outputs/corr_tissues/samp10_correlation.csv'), ('samp20', '/mnt/DATA3/timo/preeclampsia/main/body/outputs/corr_tissues/samp20_correlation.csv'), ('samp13', '/mnt/DATA3/timo/preeclampsia/main/body/outputs/corr_tissues/samp13_correlation.csv'), ('samp39', '/mnt/DATA3/timo/preeclampsia/main/body/outputs/corr_tissues/samp39_correlation.csv'), ('samp49', '/mnt/DATA3/timo/preeclampsia/main/body/outputs/corr_tissues/samp49_correlation.csv')]\n"
     ]
    }
   ],
   "source": [
    "for i in range(len(samp_numbers)):\n",
    "    path = \"/preeclampsia/main_centers/body/outputs/corr_tissues_new/\" + files[i]\n",
    "    #print(path)\n",
    "    samp_number = samp_numbers[i]\n",
    "    #print(samp_number)\n",
    "    data.append((samp_number,path))\n",
    "# print(data)"
   ]
  },
  {
   "cell_type": "code",
   "execution_count": 5,
   "id": "948d91b7",
   "metadata": {},
   "outputs": [
    {
     "name": "stdout",
     "output_type": "stream",
     "text": [
      "done\n"
     ]
    }
   ],
   "source": [
    "with open(corr_files, mode = 'w', newline='') as file:\n",
    "    writer = csv.writer(file, delimiter='\\t')  # Set delimiter to tab\n",
    "    writer.writerow(['ID', 'path'])  # Write header row\n",
    "    writer.writerows(data)  # Write data rows\n",
    "    print(\"done\")"
   ]
  }
 ],
 "metadata": {
  "kernelspec": {
   "display_name": "Python 3 (ipykernel)",
   "language": "python",
   "name": "python3"
  },
  "language_info": {
   "codemirror_mode": {
    "name": "ipython",
    "version": 3
   },
   "file_extension": ".py",
   "mimetype": "text/x-python",
   "name": "python",
   "nbconvert_exporter": "python",
   "pygments_lexer": "ipython3",
   "version": "3.12.8"
  }
 },
 "nbformat": 4,
 "nbformat_minor": 5
}
