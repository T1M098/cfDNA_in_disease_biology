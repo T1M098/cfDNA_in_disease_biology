{
 "cells": [
  {
   "cell_type": "code",
   "execution_count": 1,
   "id": "660d462c",
   "metadata": {},
   "outputs": [
    {
     "data": {
      "text/html": [
       "'/mnt/DATA3/timo'"
      ],
      "text/latex": [
       "'/mnt/DATA3/timo'"
      ],
      "text/markdown": [
       "'/mnt/DATA3/timo'"
      ],
      "text/plain": [
       "[1] \"/mnt/DATA3/timo\""
      ]
     },
     "metadata": {},
     "output_type": "display_data"
    }
   ],
   "source": [
    "rm(list=ls())\n",
    "setwd(\"/mnt/DATA3/timo\")\n",
    "getwd()\n",
    "# increase memory usage"
   ]
  },
  {
   "cell_type": "code",
   "execution_count": 2,
   "id": "ceb878a0",
   "metadata": {},
   "outputs": [
    {
     "name": "stderr",
     "output_type": "stream",
     "text": [
      "\n",
      "Attaching package: ‘dplyr’\n",
      "\n",
      "\n",
      "The following objects are masked from ‘package:stats’:\n",
      "\n",
      "    filter, lag\n",
      "\n",
      "\n",
      "The following objects are masked from ‘package:base’:\n",
      "\n",
      "    intersect, setdiff, setequal, union\n",
      "\n",
      "\n",
      "Loading required package: SeuratObject\n",
      "\n",
      "Loading required package: sp\n",
      "\n",
      "The legacy packages maptools, rgdal, and rgeos, underpinning the sp package,\n",
      "which was just loaded, will retire in October 2023.\n",
      "Please refer to R-spatial evolution reports for details, especially\n",
      "https://r-spatial.org/r/2023/05/15/evolution4.html.\n",
      "It may be desirable to make the sf package available;\n",
      "package maintainers should consider adding sf to Suggests:.\n",
      "The sp package is now running under evolution status 2\n",
      "     (status 2 uses the sf package in place of rgdal)\n",
      "\n",
      "\n",
      "Attaching package: ‘SeuratObject’\n",
      "\n",
      "\n",
      "The following objects are masked from ‘package:base’:\n",
      "\n",
      "    intersect, t\n",
      "\n",
      "\n",
      "\n",
      "Attaching package: ‘data.table’\n",
      "\n",
      "\n",
      "The following objects are masked from ‘package:dplyr’:\n",
      "\n",
      "    between, first, last\n",
      "\n",
      "\n"
     ]
    }
   ],
   "source": [
    "library(Matrix)\n",
    "library(dplyr)\n",
    "library(ggplot2)\n",
    "library(ggrepel)\n",
    "library(patchwork)\n",
    "library(Seurat)\n",
    "library(SeuratObject)\n",
    "library(data.table)\n",
    "library(dplyr)"
   ]
  },
  {
   "cell_type": "code",
   "execution_count": 3,
   "id": "0a397db8",
   "metadata": {},
   "outputs": [
    {
     "name": "stdout",
     "output_type": "stream",
     "text": [
      "[1] \"tabula_sapiens loaded.\"\n",
      "[1] \"placenta loaded.\"\n",
      "[1] \"fetal_CA loaded.\"\n"
     ]
    }
   ],
   "source": [
    "tabula_sapiens <- readRDS(\"/mnt/DATA3/timo/data/sngl_cell_Tabula_Sapiens/Tabula_Sapiens_subset3k_original_clusters.rds\")\n",
    "print(\"tabula_sapiens loaded.\")\n",
    "placenta <- readRDS(\"/mnt/DATA3/timo/data/placenta/placenta_subset3k_original_clusters.rds\")\n",
    "print(\"placenta loaded.\")\n",
    "fetal_CA <- readRDS(\"/mnt/DATA3/timo/data/placenta/fetal_CA_subset3k_merged_clusters.rds\")\n",
    "print(\"fetal_CA loaded.\")"
   ]
  },
  {
   "cell_type": "code",
   "execution_count": 4,
   "id": "c4825984",
   "metadata": {},
   "outputs": [
    {
     "name": "stderr",
     "output_type": "stream",
     "text": [
      "Validating object structure\n",
      "\n",
      "Updating object slots\n",
      "\n",
      "Ensuring keys are in the proper structure\n",
      "\n",
      "Updating matrix keys for DimReduc ‘pca’\n",
      "\n",
      "Updating matrix keys for DimReduc ‘scvi’\n",
      "\n",
      "Updating matrix keys for DimReduc ‘scvi_umap’\n",
      "\n",
      "Updating matrix keys for DimReduc ‘umap’\n",
      "\n",
      "Ensuring keys are in the proper structure\n",
      "\n",
      "Ensuring feature names don't have underscores or pipes\n",
      "\n",
      "Updating slots in RNA\n",
      "\n",
      "Updating slots in RNA_nn\n",
      "\n",
      "Setting default assay of RNA_nn to RNA\n",
      "\n",
      "Updating slots in RNA_snn\n",
      "\n",
      "Setting default assay of RNA_snn to RNA\n",
      "\n",
      "Updating slots in pca\n",
      "\n",
      "Updating slots in scvi\n",
      "\n",
      "Updating slots in scvi_umap\n",
      "\n",
      "Setting scvi_umap DimReduc to global\n",
      "\n",
      "Updating slots in umap\n",
      "\n",
      "Setting umap DimReduc to global\n",
      "\n",
      "Setting assay used for FindVariableFeatures.RNA to RNA\n",
      "\n",
      "Setting assay used for ScaleData.RNA to RNA\n",
      "\n",
      "Setting assay used for RunPCA.RNA to RNA\n",
      "\n",
      "Setting assay used for FindNeighbors.RNA.pca to RNA\n",
      "\n",
      "No assay information could be found for FindClusters\n",
      "\n",
      "Warning message:\n",
      "“Adding a command log without an assay associated with it”\n",
      "Setting assay used for RunUMAP.RNA.pca to RNA\n",
      "\n",
      "Validating object structure for Assay ‘RNA’\n",
      "\n",
      "Validating object structure for Graph ‘RNA_nn’\n",
      "\n",
      "Validating object structure for Graph ‘RNA_snn’\n",
      "\n",
      "Validating object structure for DimReduc ‘pca’\n",
      "\n",
      "Validating object structure for DimReduc ‘scvi’\n",
      "\n",
      "Validating object structure for DimReduc ‘scvi_umap’\n",
      "\n",
      "Validating object structure for DimReduc ‘umap’\n",
      "\n",
      "Object representation is consistent with the most current Seurat version\n",
      "\n"
     ]
    }
   ],
   "source": [
    "tabula_sapiens <- UpdateSeuratObject(tabula_sapiens)"
   ]
  },
  {
   "cell_type": "code",
   "execution_count": 5,
   "id": "193b9c05",
   "metadata": {},
   "outputs": [
    {
     "data": {
      "text/plain": [
       "$RNA\n",
       "Assay data with 58482 features for 39472 cells\n",
       "Top 10 variable features:\n",
       " ENSG00000187242, ENSG00000142515, ENSG00000014257, ENSG00000211899,\n",
       "ENSG00000170477, ENSG00000143632, ENSG00000167751, ENSG00000211893,\n",
       "ENSG00000181617, ENSG00000263639 \n"
      ]
     },
     "metadata": {},
     "output_type": "display_data"
    },
    {
     "data": {
      "text/plain": [
       "$RNA\n",
       "Assay (v5) data with 31764 features for 29529 cells\n",
       "Top 10 variable features:\n",
       " ENSG00000143839, ENSG00000136488, ENSG00000137077, ENSG00000186652,\n",
       "ENSG00000262406, ENSG00000164825, ENSG00000172236, ENSG00000002726,\n",
       "ENSG00000116183, ENSG00000156234 \n",
       "Layers:\n",
       " counts, data, scale.data \n"
      ]
     },
     "metadata": {},
     "output_type": "display_data"
    },
    {
     "data": {
      "text/plain": [
       "$RNA\n",
       "Assay (v5) data with 63561 features for 17475 cells\n",
       "Top 10 variable features:\n",
       " ENSG00000253755, ENSG00000211592, ENSG00000211892, ENSG00000122133,\n",
       "ENSG00000163631, ENSG00000146678, ENSG00000253535, ENSG00000155189,\n",
       "ENSG00000005020, ENSG00000132465 \n",
       "Layers:\n",
       " counts, data, scale.data \n"
      ]
     },
     "metadata": {},
     "output_type": "display_data"
    }
   ],
   "source": [
    "tabula_sapiens@assays\n",
    "placenta@assays\n",
    "fetal_CA@assays"
   ]
  },
  {
   "cell_type": "code",
   "execution_count": 6,
   "id": "da159956",
   "metadata": {},
   "outputs": [
    {
     "data": {
      "text/html": [
       "<style>\n",
       ".list-inline {list-style: none; margin:0; padding: 0}\n",
       ".list-inline>li {display: inline-block}\n",
       ".list-inline>li:not(:last-child)::after {content: \"\\00b7\"; padding: 0 .5ex}\n",
       "</style>\n",
       "<ol class=list-inline><li>'tissue_in_publication'</li><li>'assay_ontology_term_id'</li><li>'donor_id'</li><li>'anatomical_information'</li><li>'nCounts_RNA_UMIs'</li><li>'nFeaturess_RNA'</li><li>'cell_ontology_class'</li><li>'free_annotation'</li><li>'manually_annotated'</li><li>'compartment'</li><li>'sex_ontology_term_id'</li><li>'disease_ontology_term_id'</li><li>'is_primary_data'</li><li>'organism_ontology_term_id'</li><li>'suspension_type'</li><li>'cell_type_ontology_term_id'</li><li>'tissue_ontology_term_id'</li><li>'development_stage_ontology_term_id'</li><li>'self_reported_ethnicity_ontology_term_id'</li><li>'tissue_type'</li><li>'cell_type'</li><li>'assay'</li><li>'disease'</li><li>'organism'</li><li>'sex'</li><li>'tissue'</li><li>'self_reported_ethnicity'</li><li>'development_stage'</li><li>'observation_joinid'</li><li>'cell_type_tissue'</li><li>'nCount_RNA'</li><li>'nFeature_RNA'</li><li>'RNA_snn_res.0.1'</li><li>'seurat_clusters'</li></ol>\n"
      ],
      "text/latex": [
       "\\begin{enumerate*}\n",
       "\\item 'tissue\\_in\\_publication'\n",
       "\\item 'assay\\_ontology\\_term\\_id'\n",
       "\\item 'donor\\_id'\n",
       "\\item 'anatomical\\_information'\n",
       "\\item 'nCounts\\_RNA\\_UMIs'\n",
       "\\item 'nFeaturess\\_RNA'\n",
       "\\item 'cell\\_ontology\\_class'\n",
       "\\item 'free\\_annotation'\n",
       "\\item 'manually\\_annotated'\n",
       "\\item 'compartment'\n",
       "\\item 'sex\\_ontology\\_term\\_id'\n",
       "\\item 'disease\\_ontology\\_term\\_id'\n",
       "\\item 'is\\_primary\\_data'\n",
       "\\item 'organism\\_ontology\\_term\\_id'\n",
       "\\item 'suspension\\_type'\n",
       "\\item 'cell\\_type\\_ontology\\_term\\_id'\n",
       "\\item 'tissue\\_ontology\\_term\\_id'\n",
       "\\item 'development\\_stage\\_ontology\\_term\\_id'\n",
       "\\item 'self\\_reported\\_ethnicity\\_ontology\\_term\\_id'\n",
       "\\item 'tissue\\_type'\n",
       "\\item 'cell\\_type'\n",
       "\\item 'assay'\n",
       "\\item 'disease'\n",
       "\\item 'organism'\n",
       "\\item 'sex'\n",
       "\\item 'tissue'\n",
       "\\item 'self\\_reported\\_ethnicity'\n",
       "\\item 'development\\_stage'\n",
       "\\item 'observation\\_joinid'\n",
       "\\item 'cell\\_type\\_tissue'\n",
       "\\item 'nCount\\_RNA'\n",
       "\\item 'nFeature\\_RNA'\n",
       "\\item 'RNA\\_snn\\_res.0.1'\n",
       "\\item 'seurat\\_clusters'\n",
       "\\end{enumerate*}\n"
      ],
      "text/markdown": [
       "1. 'tissue_in_publication'\n",
       "2. 'assay_ontology_term_id'\n",
       "3. 'donor_id'\n",
       "4. 'anatomical_information'\n",
       "5. 'nCounts_RNA_UMIs'\n",
       "6. 'nFeaturess_RNA'\n",
       "7. 'cell_ontology_class'\n",
       "8. 'free_annotation'\n",
       "9. 'manually_annotated'\n",
       "10. 'compartment'\n",
       "11. 'sex_ontology_term_id'\n",
       "12. 'disease_ontology_term_id'\n",
       "13. 'is_primary_data'\n",
       "14. 'organism_ontology_term_id'\n",
       "15. 'suspension_type'\n",
       "16. 'cell_type_ontology_term_id'\n",
       "17. 'tissue_ontology_term_id'\n",
       "18. 'development_stage_ontology_term_id'\n",
       "19. 'self_reported_ethnicity_ontology_term_id'\n",
       "20. 'tissue_type'\n",
       "21. 'cell_type'\n",
       "22. 'assay'\n",
       "23. 'disease'\n",
       "24. 'organism'\n",
       "25. 'sex'\n",
       "26. 'tissue'\n",
       "27. 'self_reported_ethnicity'\n",
       "28. 'development_stage'\n",
       "29. 'observation_joinid'\n",
       "30. 'cell_type_tissue'\n",
       "31. 'nCount_RNA'\n",
       "32. 'nFeature_RNA'\n",
       "33. 'RNA_snn_res.0.1'\n",
       "34. 'seurat_clusters'\n",
       "\n",
       "\n"
      ],
      "text/plain": [
       " [1] \"tissue_in_publication\"                   \n",
       " [2] \"assay_ontology_term_id\"                  \n",
       " [3] \"donor_id\"                                \n",
       " [4] \"anatomical_information\"                  \n",
       " [5] \"nCounts_RNA_UMIs\"                        \n",
       " [6] \"nFeaturess_RNA\"                          \n",
       " [7] \"cell_ontology_class\"                     \n",
       " [8] \"free_annotation\"                         \n",
       " [9] \"manually_annotated\"                      \n",
       "[10] \"compartment\"                             \n",
       "[11] \"sex_ontology_term_id\"                    \n",
       "[12] \"disease_ontology_term_id\"                \n",
       "[13] \"is_primary_data\"                         \n",
       "[14] \"organism_ontology_term_id\"               \n",
       "[15] \"suspension_type\"                         \n",
       "[16] \"cell_type_ontology_term_id\"              \n",
       "[17] \"tissue_ontology_term_id\"                 \n",
       "[18] \"development_stage_ontology_term_id\"      \n",
       "[19] \"self_reported_ethnicity_ontology_term_id\"\n",
       "[20] \"tissue_type\"                             \n",
       "[21] \"cell_type\"                               \n",
       "[22] \"assay\"                                   \n",
       "[23] \"disease\"                                 \n",
       "[24] \"organism\"                                \n",
       "[25] \"sex\"                                     \n",
       "[26] \"tissue\"                                  \n",
       "[27] \"self_reported_ethnicity\"                 \n",
       "[28] \"development_stage\"                       \n",
       "[29] \"observation_joinid\"                      \n",
       "[30] \"cell_type_tissue\"                        \n",
       "[31] \"nCount_RNA\"                              \n",
       "[32] \"nFeature_RNA\"                            \n",
       "[33] \"RNA_snn_res.0.1\"                         \n",
       "[34] \"seurat_clusters\"                         "
      ]
     },
     "metadata": {},
     "output_type": "display_data"
    }
   ],
   "source": [
    "colnames(tabula_sapiens@meta.data)"
   ]
  },
  {
   "cell_type": "code",
   "execution_count": 7,
   "id": "92d9ecdf",
   "metadata": {},
   "outputs": [
    {
     "data": {
      "text/html": [
       "<style>\n",
       ".list-inline {list-style: none; margin:0; padding: 0}\n",
       ".list-inline>li {display: inline-block}\n",
       ".list-inline>li:not(:last-child)::after {content: \"\\00b7\"; padding: 0 .5ex}\n",
       "</style>\n",
       "<ol class=list-inline><li>'orig.ident'</li><li>'nCount_RNA'</li><li>'nFeature_RNA'</li><li>'cell_barcode'</li><li>'donor_id'</li><li>'tissue'</li><li>'count'</li><li>'cell_type'</li><li>'RNA_snn_res.0.1'</li><li>'seurat_clusters'</li></ol>\n"
      ],
      "text/latex": [
       "\\begin{enumerate*}\n",
       "\\item 'orig.ident'\n",
       "\\item 'nCount\\_RNA'\n",
       "\\item 'nFeature\\_RNA'\n",
       "\\item 'cell\\_barcode'\n",
       "\\item 'donor\\_id'\n",
       "\\item 'tissue'\n",
       "\\item 'count'\n",
       "\\item 'cell\\_type'\n",
       "\\item 'RNA\\_snn\\_res.0.1'\n",
       "\\item 'seurat\\_clusters'\n",
       "\\end{enumerate*}\n"
      ],
      "text/markdown": [
       "1. 'orig.ident'\n",
       "2. 'nCount_RNA'\n",
       "3. 'nFeature_RNA'\n",
       "4. 'cell_barcode'\n",
       "5. 'donor_id'\n",
       "6. 'tissue'\n",
       "7. 'count'\n",
       "8. 'cell_type'\n",
       "9. 'RNA_snn_res.0.1'\n",
       "10. 'seurat_clusters'\n",
       "\n",
       "\n"
      ],
      "text/plain": [
       " [1] \"orig.ident\"      \"nCount_RNA\"      \"nFeature_RNA\"    \"cell_barcode\"   \n",
       " [5] \"donor_id\"        \"tissue\"          \"count\"           \"cell_type\"      \n",
       " [9] \"RNA_snn_res.0.1\" \"seurat_clusters\""
      ]
     },
     "metadata": {},
     "output_type": "display_data"
    }
   ],
   "source": [
    "colnames(placenta@meta.data)"
   ]
  },
  {
   "cell_type": "code",
   "execution_count": 8,
   "id": "e77667db",
   "metadata": {},
   "outputs": [
    {
     "data": {
      "text/html": [
       "<style>\n",
       ".list-inline {list-style: none; margin:0; padding: 0}\n",
       ".list-inline>li {display: inline-block}\n",
       ".list-inline>li:not(:last-child)::after {content: \"\\00b7\"; padding: 0 .5ex}\n",
       "</style>\n",
       "<ol class=list-inline><li>'orig.ident'</li><li>'nCount_RNA'</li><li>'nFeature_RNA'</li><li>'sample'</li><li>'tissue'</li><li>'cell_type'</li><li>'RNA_snn_res.0.1'</li><li>'seurat_clusters'</li><li>'seurat_clusters_new'</li></ol>\n"
      ],
      "text/latex": [
       "\\begin{enumerate*}\n",
       "\\item 'orig.ident'\n",
       "\\item 'nCount\\_RNA'\n",
       "\\item 'nFeature\\_RNA'\n",
       "\\item 'sample'\n",
       "\\item 'tissue'\n",
       "\\item 'cell\\_type'\n",
       "\\item 'RNA\\_snn\\_res.0.1'\n",
       "\\item 'seurat\\_clusters'\n",
       "\\item 'seurat\\_clusters\\_new'\n",
       "\\end{enumerate*}\n"
      ],
      "text/markdown": [
       "1. 'orig.ident'\n",
       "2. 'nCount_RNA'\n",
       "3. 'nFeature_RNA'\n",
       "4. 'sample'\n",
       "5. 'tissue'\n",
       "6. 'cell_type'\n",
       "7. 'RNA_snn_res.0.1'\n",
       "8. 'seurat_clusters'\n",
       "9. 'seurat_clusters_new'\n",
       "\n",
       "\n"
      ],
      "text/plain": [
       "[1] \"orig.ident\"          \"nCount_RNA\"          \"nFeature_RNA\"       \n",
       "[4] \"sample\"              \"tissue\"              \"cell_type\"          \n",
       "[7] \"RNA_snn_res.0.1\"     \"seurat_clusters\"     \"seurat_clusters_new\""
      ]
     },
     "metadata": {},
     "output_type": "display_data"
    }
   ],
   "source": [
    "colnames(fetal_CA@meta.data)"
   ]
  },
  {
   "cell_type": "code",
   "execution_count": 9,
   "id": "7f513fbb",
   "metadata": {},
   "outputs": [],
   "source": [
    "# testing\n",
    "#tabula_sapiens <- subset(tabula_sapiens, cells = sample(Cells(tabula_sapiens), 1000))\n",
    "#placenta <- subset(placenta, cells = sample(Cells(placenta), 1000))\n",
    "#fetal_CA <- subset(fetal_CA, cells = sample(Cells(fetal_CA), 1000))"
   ]
  },
  {
   "cell_type": "code",
   "execution_count": 10,
   "id": "4f82c5df",
   "metadata": {},
   "outputs": [
    {
     "name": "stdout",
     "output_type": "stream",
     "text": [
      "[1] \"tabula_sapiens FindVarF.\"\n",
      "[1] \"placenta FindVarF.\"\n"
     ]
    },
    {
     "name": "stderr",
     "output_type": "stream",
     "text": [
      "Finding variable features for layer counts\n",
      "\n"
     ]
    },
    {
     "name": "stdout",
     "output_type": "stream",
     "text": [
      "[1] \"fetal_CA FindVarF.\"\n"
     ]
    },
    {
     "name": "stderr",
     "output_type": "stream",
     "text": [
      "Finding variable features for layer counts\n",
      "\n"
     ]
    }
   ],
   "source": [
    "print(\"tabula_sapiens FindVarF.\")\n",
    "tabula_sapiens <- FindVariableFeatures(tabula_sapiens, selection.method = \"vst\", nfeatures = 2000)\n",
    "print(\"placenta FindVarF.\")\n",
    "placenta <- FindVariableFeatures(placenta, selection.method = \"vst\", nfeatures = 2000)\n",
    "print(\"fetal_CA FindVarF.\")\n",
    "fetal_CA <- FindVariableFeatures(fetal_CA, selection.method = \"vst\", nfeatures = 2000)\n",
    "\n",
    "DefaultAssay(tabula_sapiens) <- \"RNA\"\n",
    "DefaultAssay(placenta) <- \"RNA\"\n",
    "DefaultAssay(fetal_CA) <- \"RNA\""
   ]
  },
  {
   "cell_type": "code",
   "execution_count": 11,
   "id": "1d6ab9b8",
   "metadata": {},
   "outputs": [
    {
     "data": {
      "text/html": [
       "2000"
      ],
      "text/latex": [
       "2000"
      ],
      "text/markdown": [
       "2000"
      ],
      "text/plain": [
       "[1] 2000"
      ]
     },
     "metadata": {},
     "output_type": "display_data"
    },
    {
     "data": {
      "text/html": [
       "2000"
      ],
      "text/latex": [
       "2000"
      ],
      "text/markdown": [
       "2000"
      ],
      "text/plain": [
       "[1] 2000"
      ]
     },
     "metadata": {},
     "output_type": "display_data"
    },
    {
     "data": {
      "text/html": [
       "2000"
      ],
      "text/latex": [
       "2000"
      ],
      "text/markdown": [
       "2000"
      ],
      "text/plain": [
       "[1] 2000"
      ]
     },
     "metadata": {},
     "output_type": "display_data"
    }
   ],
   "source": [
    "length(VariableFeatures(tabula_sapiens))\n",
    "length(VariableFeatures(placenta))\n",
    "length(VariableFeatures(fetal_CA))"
   ]
  },
  {
   "cell_type": "code",
   "execution_count": 12,
   "id": "6250cdf1",
   "metadata": {},
   "outputs": [
    {
     "name": "stderr",
     "output_type": "stream",
     "text": [
      "Computing 2000 integration features\n",
      "\n",
      "Scaling features for provided objects\n",
      "\n",
      "Warning message:\n",
      "“Different features in new layer data than already exists for scale.data”\n",
      "Warning message:\n",
      "“Different features in new layer data than already exists for scale.data”\n",
      "Finding anchors between all query and reference datasets\n",
      "\n",
      "Running CCA\n",
      "\n",
      "Merging objects\n",
      "\n",
      "Finding neighborhoods\n",
      "\n",
      "Finding anchors\n",
      "\n",
      "\tFound 30355 anchors\n",
      "\n",
      "Filtering anchors\n",
      "\n",
      "\tRetained 5598 anchors\n",
      "\n",
      "Running CCA\n",
      "\n",
      "Merging objects\n",
      "\n",
      "Finding neighborhoods\n",
      "\n",
      "Finding anchors\n",
      "\n",
      "\tFound 19674 anchors\n",
      "\n",
      "Filtering anchors\n",
      "\n",
      "\tRetained 3420 anchors\n",
      "\n"
     ]
    }
   ],
   "source": [
    "anchors <- FindIntegrationAnchors(object.list = list(tabula_sapiens, placenta, fetal_CA), reference = 1, dim = 1:10)\n",
    "#anchors <- FindIntegrationAnchors(object.list = list(tabula_sapiens, fetal_cell_atlas_placenta_seurat_object, placenta_seurat_object), reference = 1, dims = 1:10) #"
   ]
  },
  {
   "cell_type": "code",
   "execution_count": 13,
   "id": "5c9634cf",
   "metadata": {},
   "outputs": [
    {
     "name": "stdout",
     "output_type": "stream",
     "text": [
      "[1] \"Anchors: \"\n",
      "An AnchorSet object containing 18036 anchors between 3 Seurat objects \n",
      " This can be used as input to IntegrateData.\n"
     ]
    }
   ],
   "source": [
    "print(\"Anchors: \")\n",
    "print(anchors)"
   ]
  },
  {
   "cell_type": "code",
   "execution_count": 14,
   "id": "6356bf6d",
   "metadata": {},
   "outputs": [
    {
     "name": "stdout",
     "output_type": "stream",
     "text": [
      "[1] \"Integrating Datasets into Tabula Sapiens\"\n"
     ]
    },
    {
     "name": "stderr",
     "output_type": "stream",
     "text": [
      "Warning message:\n",
      "“Layer counts isn't present in the assay object; returning NULL”\n",
      "Warning message:\n",
      "“Layer counts isn't present in the assay object; returning NULL”\n",
      "\n",
      "Integrating dataset 2 with reference dataset\n",
      "\n",
      "Finding integration vectors\n",
      "\n",
      "Warning message:\n",
      "“Different cells in new layer data than already exists for scale.data”\n",
      "Finding integration vector weights\n",
      "\n",
      "Integrating data\n",
      "\n",
      "\n",
      "Integrating dataset 3 with reference dataset\n",
      "\n",
      "Finding integration vectors\n",
      "\n",
      "Warning message:\n",
      "“Different cells in new layer data than already exists for scale.data”\n",
      "Finding integration vector weights\n",
      "\n",
      "Integrating data\n",
      "\n",
      "Warning message:\n",
      "“Layer counts isn't present in the assay object; returning NULL”\n"
     ]
    }
   ],
   "source": [
    "# combine them\n",
    "print(\"Integrating Datasets into Tabula Sapiens\")\n",
    "integrated_seurat_fetal_and_placenta <- IntegrateData(anchorset = anchors)"
   ]
  },
  {
   "cell_type": "code",
   "execution_count": 17,
   "id": "507e05a1",
   "metadata": {},
   "outputs": [
    {
     "data": {
      "text/plain": [
       "$RNA\n",
       "Assay (v5) data with 70071 features for 86476 cells\n",
       "Top 10 variable features:\n",
       " ENSG00000211592, ENSG00000211892, ENSG00000122133, ENSG00000163631,\n",
       "ENSG00000253755, ENSG00000253535, ENSG00000155189, ENSG00000081051,\n",
       "ENSG00000005020, ENSG00000146678 \n",
       "Layers:\n",
       " data.1, data.2, data.3, counts.1, scale.data.1, counts.2, scale.data.2,\n",
       "counts.3, scale.data.3 \n",
       "\n",
       "$integrated\n",
       "Assay data with 2000 features for 86476 cells\n",
       "Top 10 variable features:\n",
       " ENSG00000146678, ENSG00000253755, ENSG00000211897, ENSG00000211892,\n",
       "ENSG00000120937, ENSG00000186652, ENSG00000115602, ENSG00000170498,\n",
       "ENSG00000002726, ENSG00000165072 \n"
      ]
     },
     "metadata": {},
     "output_type": "display_data"
    }
   ],
   "source": [
    "integrated_seurat_fetal_and_placenta@assays"
   ]
  },
  {
   "cell_type": "code",
   "execution_count": 21,
   "id": "b60d1765",
   "metadata": {},
   "outputs": [
    {
     "data": {
      "text/html": [
       "<style>\n",
       ".list-inline {list-style: none; margin:0; padding: 0}\n",
       ".list-inline>li {display: inline-block}\n",
       ".list-inline>li:not(:last-child)::after {content: \"\\00b7\"; padding: 0 .5ex}\n",
       "</style>\n",
       "<ol class=list-inline><li>'liver'</li><li>'trachea'</li><li>'blood'</li><li>'inguinal lymph node'</li><li>'lymph node'</li><li>'parotid gland'</li><li>'spleen'</li><li>'anterior part of tongue'</li><li>'posterior part of tongue'</li><li>'mammary gland'</li><li>'endometrium'</li><li>'myometrium'</li><li>'eye'</li><li>'conjunctiva'</li><li>'adipose tissue'</li><li>'subcutaneous adipose tissue'</li><li>'skin of body'</li><li>'cardiac atrium'</li><li>'cardiac ventricle'</li><li>'exocrine pancreas'</li><li>'prostate gland'</li><li>'sublingual gland'</li><li>'cornea'</li><li>'retinal neural layer'</li><li>'sclera'</li><li>'bladder organ'</li><li>'large intestine'</li><li>'lung'</li><li>'small intestine'</li><li>'skin of abdomen'</li><li>'skin of chest'</li><li>'thymus'</li><li>'bone marrow'</li><li>'muscle of abdomen'</li><li>'muscle of pelvic diaphragm'</li><li>'vasculature'</li><li>'coronary artery'</li><li>'kidney'</li><li>'muscle tissue'</li><li>'rectus abdominis muscle'</li><li>'endocrine pancreas'</li><li>'aorta'</li><li>'Decidua'</li><li>'Blood'</li><li>'Placenta'</li></ol>\n"
      ],
      "text/latex": [
       "\\begin{enumerate*}\n",
       "\\item 'liver'\n",
       "\\item 'trachea'\n",
       "\\item 'blood'\n",
       "\\item 'inguinal lymph node'\n",
       "\\item 'lymph node'\n",
       "\\item 'parotid gland'\n",
       "\\item 'spleen'\n",
       "\\item 'anterior part of tongue'\n",
       "\\item 'posterior part of tongue'\n",
       "\\item 'mammary gland'\n",
       "\\item 'endometrium'\n",
       "\\item 'myometrium'\n",
       "\\item 'eye'\n",
       "\\item 'conjunctiva'\n",
       "\\item 'adipose tissue'\n",
       "\\item 'subcutaneous adipose tissue'\n",
       "\\item 'skin of body'\n",
       "\\item 'cardiac atrium'\n",
       "\\item 'cardiac ventricle'\n",
       "\\item 'exocrine pancreas'\n",
       "\\item 'prostate gland'\n",
       "\\item 'sublingual gland'\n",
       "\\item 'cornea'\n",
       "\\item 'retinal neural layer'\n",
       "\\item 'sclera'\n",
       "\\item 'bladder organ'\n",
       "\\item 'large intestine'\n",
       "\\item 'lung'\n",
       "\\item 'small intestine'\n",
       "\\item 'skin of abdomen'\n",
       "\\item 'skin of chest'\n",
       "\\item 'thymus'\n",
       "\\item 'bone marrow'\n",
       "\\item 'muscle of abdomen'\n",
       "\\item 'muscle of pelvic diaphragm'\n",
       "\\item 'vasculature'\n",
       "\\item 'coronary artery'\n",
       "\\item 'kidney'\n",
       "\\item 'muscle tissue'\n",
       "\\item 'rectus abdominis muscle'\n",
       "\\item 'endocrine pancreas'\n",
       "\\item 'aorta'\n",
       "\\item 'Decidua'\n",
       "\\item 'Blood'\n",
       "\\item 'Placenta'\n",
       "\\end{enumerate*}\n"
      ],
      "text/markdown": [
       "1. 'liver'\n",
       "2. 'trachea'\n",
       "3. 'blood'\n",
       "4. 'inguinal lymph node'\n",
       "5. 'lymph node'\n",
       "6. 'parotid gland'\n",
       "7. 'spleen'\n",
       "8. 'anterior part of tongue'\n",
       "9. 'posterior part of tongue'\n",
       "10. 'mammary gland'\n",
       "11. 'endometrium'\n",
       "12. 'myometrium'\n",
       "13. 'eye'\n",
       "14. 'conjunctiva'\n",
       "15. 'adipose tissue'\n",
       "16. 'subcutaneous adipose tissue'\n",
       "17. 'skin of body'\n",
       "18. 'cardiac atrium'\n",
       "19. 'cardiac ventricle'\n",
       "20. 'exocrine pancreas'\n",
       "21. 'prostate gland'\n",
       "22. 'sublingual gland'\n",
       "23. 'cornea'\n",
       "24. 'retinal neural layer'\n",
       "25. 'sclera'\n",
       "26. 'bladder organ'\n",
       "27. 'large intestine'\n",
       "28. 'lung'\n",
       "29. 'small intestine'\n",
       "30. 'skin of abdomen'\n",
       "31. 'skin of chest'\n",
       "32. 'thymus'\n",
       "33. 'bone marrow'\n",
       "34. 'muscle of abdomen'\n",
       "35. 'muscle of pelvic diaphragm'\n",
       "36. 'vasculature'\n",
       "37. 'coronary artery'\n",
       "38. 'kidney'\n",
       "39. 'muscle tissue'\n",
       "40. 'rectus abdominis muscle'\n",
       "41. 'endocrine pancreas'\n",
       "42. 'aorta'\n",
       "43. 'Decidua'\n",
       "44. 'Blood'\n",
       "45. 'Placenta'\n",
       "\n",
       "\n"
      ],
      "text/plain": [
       " [1] \"liver\"                       \"trachea\"                    \n",
       " [3] \"blood\"                       \"inguinal lymph node\"        \n",
       " [5] \"lymph node\"                  \"parotid gland\"              \n",
       " [7] \"spleen\"                      \"anterior part of tongue\"    \n",
       " [9] \"posterior part of tongue\"    \"mammary gland\"              \n",
       "[11] \"endometrium\"                 \"myometrium\"                 \n",
       "[13] \"eye\"                         \"conjunctiva\"                \n",
       "[15] \"adipose tissue\"              \"subcutaneous adipose tissue\"\n",
       "[17] \"skin of body\"                \"cardiac atrium\"             \n",
       "[19] \"cardiac ventricle\"           \"exocrine pancreas\"          \n",
       "[21] \"prostate gland\"              \"sublingual gland\"           \n",
       "[23] \"cornea\"                      \"retinal neural layer\"       \n",
       "[25] \"sclera\"                      \"bladder organ\"              \n",
       "[27] \"large intestine\"             \"lung\"                       \n",
       "[29] \"small intestine\"             \"skin of abdomen\"            \n",
       "[31] \"skin of chest\"               \"thymus\"                     \n",
       "[33] \"bone marrow\"                 \"muscle of abdomen\"          \n",
       "[35] \"muscle of pelvic diaphragm\"  \"vasculature\"                \n",
       "[37] \"coronary artery\"             \"kidney\"                     \n",
       "[39] \"muscle tissue\"               \"rectus abdominis muscle\"    \n",
       "[41] \"endocrine pancreas\"          \"aorta\"                      \n",
       "[43] \"Decidua\"                     \"Blood\"                      \n",
       "[45] \"Placenta\"                   "
      ]
     },
     "metadata": {},
     "output_type": "display_data"
    }
   ],
   "source": [
    "unique(integrated_seurat_fetal_and_placenta@meta.data[, c(\"tissue\")])"
   ]
  },
  {
   "cell_type": "code",
   "execution_count": null,
   "id": "db152a0d-497d-4ce3-b4df-28e4614202e6",
   "metadata": {},
   "outputs": [],
   "source": [
    "# Replace NA values in 'tissue_in_publication' with 'tissue' => either decidua or placenta\n",
    "integrated_seurat_fetal_and_placenta@meta.data <- integrated_seurat_fetal_and_placenta@meta.data %>%\n",
    "  mutate(tissue_in_publication = ifelse(is.na(tissue_in_publication), tissue, tissue_in_publication))\n",
    "\n",
    "# Redo cell_type_tissue column\n",
    "integrated_seurat_fetal_and_placenta@meta.data$cell_type_tissue <- paste(\n",
    "  integrated_seurat_fetal_and_placenta@meta.data$cell_type, \n",
    "  integrated_seurat_fetal_and_placenta@meta.data$tissue_in_publication, \n",
    "  sep = \"_\"\n",
    ")\n"
   ]
  },
  {
   "cell_type": "code",
   "execution_count": 20,
   "id": "8786ce3e",
   "metadata": {},
   "outputs": [],
   "source": [
    "saveRDS(integrated_seurat_fetal_and_placenta, file = \"/mnt/DATA3/timo/data/placenta/Integrated_data.rds\")"
   ]
  },
  {
   "cell_type": "code",
   "execution_count": null,
   "id": "882e3bf5",
   "metadata": {},
   "outputs": [],
   "source": [
    "tabula_sapiens_placenta <- readRDS(\"/mnt/DATA3/timo/data/placenta/Integrated_data.rds\")\n",
    "print(\"File loaded.\")\n",
    "print(tabula_sapiens_placenta@assays)\n",
    "\n",
    "##################################\n",
    "print(\"Average Expression per Cell Type Tissue\")\n",
    "avg_expr <- AverageExpression(object = tabula_sapiens_placenta,\n",
    "                       assays = \"RNA\",\n",
    "                       group.by = \"cell_type_tissue\",\n",
    "                       return.seurat = FALSE)\n",
    "avg_expr_df <- as.data.frame(avg_expr)\n",
    "print(\"Only keep Genes with >= 3 non-zero values.\")\n",
    "# Count non-zero entries for each row directly on the sparse matrix\n",
    "non_zero_counts <- rowSums(avg_expr_df != 0)\n",
    "# Create a logical vector to keep rows with at least 3 or more non-zero values\n",
    "threshold <- 3\n",
    "keep_rows <- non_zero_counts[non_zero_counts > threshold]\n",
    "rows_names_keep <- names(keep_rows)\n",
    "# subset the initial dgCMatrix using the row names (ENSG00010123) which contain at least 3 non-zero values\n",
    "avg_expr_df_filtered <- avg_expr_df[rownames(avg_expr_df) %in% rows_names_keep, ]"
   ]
  },
  {
   "cell_type": "code",
   "execution_count": null,
   "id": "867c760c",
   "metadata": {},
   "outputs": [],
   "source": []
  },
  {
   "cell_type": "code",
   "execution_count": null,
   "id": "08a62933",
   "metadata": {},
   "outputs": [],
   "source": [
    "# save file\n",
    "write.table(avg_expr_df_filtered, file = \"/mnt/DATA3/timo/data/sngl_cell_Tabula_Sapiens/avg_expression_Tabula_Sapiens_cell_type_tissue_placenta_new.tsv\", sep = \"\\t\", row.names = TRUE, col.names = TRUE)"
   ]
  }
 ],
 "metadata": {
  "kernelspec": {
   "display_name": "R",
   "language": "R",
   "name": "ir"
  },
  "language_info": {
   "codemirror_mode": "r",
   "file_extension": ".r",
   "mimetype": "text/x-r-source",
   "name": "R",
   "pygments_lexer": "r",
   "version": "4.4.1"
  }
 },
 "nbformat": 4,
 "nbformat_minor": 5
}
