{
 "cells": [
  {
   "cell_type": "code",
   "execution_count": 1,
   "id": "db47be8d",
   "metadata": {},
   "outputs": [],
   "source": [
    "import csv\n",
    "import os\n",
    "import re"
   ]
  },
  {
   "cell_type": "code",
   "execution_count": 2,
   "id": "863f7b4c",
   "metadata": {},
   "outputs": [],
   "source": [
    "# output file name and path\n",
    "corr_files = '/mnt/DATA3/timo/main/body/outputs/corr_files.tsv'"
   ]
  },
  {
   "cell_type": "code",
   "execution_count": 3,
   "id": "f508b900",
   "metadata": {},
   "outputs": [],
   "source": [
    "directory = 'main/body/outputs/corr_tissues/'\n",
    "data=[]\n",
    "\n",
    "files = os.listdir(directory)\n",
    "\n",
    "ee_numbers = []\n",
    "for file in files:\n",
    "    match = re.search(r'EE\\d+', file)\n",
    "    if match:\n",
    "        ee_numbers.append(match.group())"
   ]
  },
  {
   "cell_type": "code",
   "execution_count": 4,
   "id": "6a157642",
   "metadata": {},
   "outputs": [],
   "source": [
    "for i in range(len(ee_numbers)):\n",
    "    path = \"main/body/outputs/corr_tissues/\" + files[i]\n",
    "    ee_number = ee_numbers[i]\n",
    "    data.append((ee_number,path))\n"
   ]
  },
  {
   "cell_type": "code",
   "execution_count": 5,
   "id": "948d91b7",
   "metadata": {},
   "outputs": [
    {
     "name": "stdout",
     "output_type": "stream",
     "text": [
      "done\n"
     ]
    }
   ],
   "source": [
    "with open(corr_files, mode = 'w', newline='') as file:\n",
    "    writer = csv.writer(file, delimiter='\\t')  # Set delimiter to tab\n",
    "    writer.writerow(['ID', 'path'])  # Write header row\n",
    "    writer.writerows(data)  # Write data rows\n",
    "    print(\"done\")"
   ]
  }
 ],
 "metadata": {
  "kernelspec": {
   "display_name": "Python 3 (ipykernel)",
   "language": "python",
   "name": "python3"
  },
  "language_info": {
   "codemirror_mode": {
    "name": "ipython",
    "version": 3
   },
   "file_extension": ".py",
   "mimetype": "text/x-python",
   "name": "python",
   "nbconvert_exporter": "python",
   "pygments_lexer": "ipython3",
   "version": "3.12.8"
  }
 },
 "nbformat": 4,
 "nbformat_minor": 5
}
